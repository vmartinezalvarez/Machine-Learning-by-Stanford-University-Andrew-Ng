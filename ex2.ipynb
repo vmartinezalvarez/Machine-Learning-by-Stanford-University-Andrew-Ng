{
 "cells": [
  {
   "cell_type": "code",
   "execution_count": 2,
   "metadata": {},
   "outputs": [
    {
     "data": {
      "text/html": [
       "<style>.container { width:100% !important; }</style>"
      ],
      "text/plain": [
       "<IPython.core.display.HTML object>"
      ]
     },
     "metadata": {},
     "output_type": "display_data"
    }
   ],
   "source": [
    "import numpy as np\n",
    "import matplotlib.pyplot as plt\n",
    "import pandas as pd\n",
    "%matplotlib inline\n",
    "from IPython.core.display import display, HTML\n",
    "display(HTML(\"<style>.container { width:100% !important; }</style>\"))"
   ]
  },
  {
   "cell_type": "code",
   "execution_count": 57,
   "metadata": {},
   "outputs": [
    {
     "data": {
      "image/png": "[encoded data removed]",
      "text/plain": [
       "<Figure size 432x288 with 1 Axes>"
      ]
     },
     "metadata": {},
     "output_type": "display_data"
    }
   ],
   "source": [
    "from numpy import loadtxt, where\n",
    "from pylab import scatter, show, legend, xlabel, ylabel\n",
    "\n",
    "#load the dataset\n",
    "data = loadtxt('ex2data1.txt', delimiter=',')\n",
    "\n",
    "X = data[:, 0:2]\n",
    "y = data[:, 2]\n",
    "\n",
    "pos = where(y == 1)\n",
    "neg = where(y == 0)\n",
    "scatter(X[pos, 0], X[pos, 1], marker='o', c='b')\n",
    "scatter(X[neg, 0], X[neg, 1], marker='x', c='r')\n",
    "xlabel('Exam 1 score')\n",
    "ylabel('Exam 2 score')\n",
    "legend(['Not Admitted', 'Admitted'])\n",
    "show()"
   ]
  },
  {
   "cell_type": "code",
   "execution_count": 56,
   "metadata": {},
   "outputs": [],
   "source": [
    "def sigmoid(z):\n",
    "#SIGMOID Compute sigmoid function\n",
    "#   g = SIGMOID(z) computes the sigmoid of z.\n",
    " \n",
    "    return 1/(1+np.exp(-z))  \n"
   ]
  },
  {
   "cell_type": "code",
   "execution_count": null,
   "metadata": {},
   "outputs": [],
   "source": [
    "def costFunction(theta, X, y):\n",
    "#COSTFUNCTION Compute cost and gradient for logistic regression\n",
    "#   J = COSTFUNCTION(theta, X, y) computes the cost of using theta as the\n",
    "#   parameter for logistic regression and the gradient of the cost\n",
    "#   w.r.t. to the parameters.\n",
    "\n",
    "# Initialize some useful values\n",
    "m = len(y); # number of training examples\n",
    "\n",
    "# You need to return the following variables correctly \n",
    "\n",
    "\n",
    "\n",
    "grad = zeros(size(theta));\n",
    "\n",
    "\n",
    "# ====================== YOUR CODE HERE ======================\n",
    "# Instructions: Compute the cost of a particular choice of theta.\n",
    "#               You should set J to the cost.\n",
    "#               Compute the partial derivatives and set grad to the partial\n",
    "#               derivatives of the cost w.r.t. each parameter in theta\n",
    "#\n",
    "# Note: grad should have the same dimensions as theta\n",
    "#\n",
    "\n",
    "h = sigmoid(np.matmul(X,theta));\n",
    "\n",
    "J = ((-y)'*log(h)-(1-y)'*log(1-h))/m;\n",
    "grad = (X'*(h - y))/m;\n",
    "\n",
    "\n",
    "\n",
    "\n",
    "\n",
    "# =============================================================\n",
    "\n",
    "end"
   ]
  },
  {
   "cell_type": "code",
   "execution_count": 48,
   "metadata": {},
   "outputs": [
    {
     "data": {
      "text/plain": [
       "array([0., 0., 0.])"
      ]
     },
     "execution_count": 48,
     "metadata": {},
     "output_type": "execute_result"
    }
   ],
   "source": [
    "data = pd.read_csv('ex2data1.txt', header = None)\n",
    "data = np.array(data)\n",
    "\n",
    "X = data[:, [0, 1]]; \n",
    "pos = np.where(y == 1)[0]\n",
    "pos\n",
    "X[pos, 0]\n",
    "[m, n] = np.shape(X);\n",
    "X = np.c_[np.ones(m), X ];\n",
    "initial_theta = np.zeros(n + 1);\n",
    "initial_theta"
   ]
  },
  {
   "cell_type": "code",
   "execution_count": 58,
   "metadata": {},
   "outputs": [
    {
     "name": "stdout",
     "output_type": "stream",
     "text": [
      "['Plotting data with + indicating (y = 1) examples and o indicating (y = 0) examples.\\n']\n"
     ]
    },
    {
     "data": {
      "image/png": "[encoded data removed]",
      "text/plain": [
       "<Figure size 432x288 with 1 Axes>"
      ]
     },
     "metadata": {},
     "output_type": "display_data"
    },
    {
     "ename": "NameError",
     "evalue": "name 'costFunction' is not defined",
     "output_type": "error",
     "traceback": [
      "\u001b[0;31m---------------------------------------------------------------------------\u001b[0m",
      "\u001b[0;31mNameError\u001b[0m                                 Traceback (most recent call last)",
      "\u001b[0;32m<ipython-input-58-515f2c09ee45>\u001b[0m in \u001b[0;36m<module>\u001b[0;34m()\u001b[0m\n\u001b[1;32m     68\u001b[0m \u001b[0;34m\u001b[0m\u001b[0m\n\u001b[1;32m     69\u001b[0m \u001b[0;31m# Compute and display initial cost and gradient\u001b[0m\u001b[0;34m\u001b[0m\u001b[0;34m\u001b[0m\u001b[0m\n\u001b[0;32m---> 70\u001b[0;31m \u001b[0;34m[\u001b[0m\u001b[0mcost\u001b[0m\u001b[0;34m,\u001b[0m \u001b[0mgrad\u001b[0m\u001b[0;34m]\u001b[0m \u001b[0;34m=\u001b[0m \u001b[0mcostFunction\u001b[0m\u001b[0;34m(\u001b[0m\u001b[0minitial_theta\u001b[0m\u001b[0;34m,\u001b[0m \u001b[0mX\u001b[0m\u001b[0;34m,\u001b[0m \u001b[0my\u001b[0m\u001b[0;34m)\u001b[0m\u001b[0;34m;\u001b[0m\u001b[0;34m\u001b[0m\u001b[0m\n\u001b[0m\u001b[1;32m     71\u001b[0m \u001b[0;34m\u001b[0m\u001b[0m\n\u001b[1;32m     72\u001b[0m \u001b[0mprint\u001b[0m\u001b[0;34m(\u001b[0m\u001b[0;34m'Cost at initial theta (zeros): #f\\n'\u001b[0m\u001b[0;34m,\u001b[0m \u001b[0mcost\u001b[0m\u001b[0;34m)\u001b[0m\u001b[0;34m;\u001b[0m\u001b[0;34m\u001b[0m\u001b[0m\n",
      "\u001b[0;31mNameError\u001b[0m: name 'costFunction' is not defined"
     ]
    }
   ],
   "source": [
    "## Machine Learning Online Class - Exercise 2: Logistic Regression\n",
    "#\n",
    "#  Instructions\n",
    "#  ------------\n",
    "# \n",
    "#  This file contains code that helps you get started on the logistic\n",
    "#  regression exercise. You will need to complete the following functions \n",
    "#  in this exericse:\n",
    "#\n",
    "#     sigmoid.m\n",
    "#     costFunction.m\n",
    "#     predict.m\n",
    "#     costFunctionReg.m\n",
    "#\n",
    "#  For this exercise, you will not need to change any code in this file,\n",
    "#  or any other files other than those mentioned above.\n",
    "#\n",
    "\n",
    "## Initialization\n",
    "\n",
    "## Load Data\n",
    "#  The first two columns contains the exam scores and the third column\n",
    "#  contains the label.\n",
    "\n",
    "data = loadtxt('ex2data1.txt', delimiter=',')\n",
    "\n",
    "X = data[:, 0:2]\n",
    "y = data[:, 2]\n",
    "\n",
    "\n",
    "\n",
    "## ==================== Part 1: Plotting ====================\n",
    "#  We start the exercise by first plotting the data to understand the \n",
    "#  the problem we are working with.\n",
    "\n",
    "print(['Plotting data with + indicating (y = 1) examples and o indicating (y = 0) examples.\\n']);\n",
    "\n",
    "\n",
    "pos = np.where(y == 1)[0]\n",
    "neg = np.where(y == 0)[0]\n",
    "\n",
    "plt.scatter( X[pos, 0], X[pos, 1], s=20, c='r', marker='x',label='Admitted');\n",
    "plt.scatter( X[neg, 0], X[neg, 1], s=20, c='y', marker='o',label='Not admitted');\n",
    "\n",
    "# Put some labels \n",
    "\n",
    "# Labels and Legend\n",
    "plt.xlabel('Exam 1 score')\n",
    "plt.ylabel('Exam 2 score')\n",
    "plt.legend()\n",
    "plt.show()\n",
    "\n",
    "## ============ Part 2: Compute Cost and Gradient ============\n",
    "#  In this part of the exercise, you will implement the cost and gradient\n",
    "#  for logistic regression. You neeed to complete the code in \n",
    "#  costFunction.m\n",
    "\n",
    "#  Setup the data matrix appropriately, and add ones for the intercept term\n",
    "[m, n] = np.shape(X);\n",
    "\n",
    "# Add intercept term to x and X_test\n",
    "X = np.c_[ np.ones(m), X ];\n",
    "\n",
    "\n",
    "# Initialize fitting parameters\n",
    "initial_theta = np.zeros(n + 1);\n",
    "\n",
    "\n",
    "# Compute and display initial cost and gradient\n",
    "[cost, grad] = costFunction(initial_theta, X, y);\n",
    "\n",
    "print('Cost at initial theta (zeros): #f\\n', cost);\n",
    "print('Expected cost (approx): 0.693\\n');\n",
    "print('Gradient at initial theta (zeros): \\n');\n",
    "print(' #f \\n', grad);\n",
    "print('Expected gradients (approx):\\n -0.1000\\n -12.0092\\n -11.2628\\n');\n"
   ]
  },
  {
   "cell_type": "code",
   "execution_count": null,
   "metadata": {},
   "outputs": [],
   "source": []
  },
  {
   "cell_type": "code",
   "execution_count": null,
   "metadata": {},
   "outputs": [],
   "source": [
    "\n",
    "# Compute and display cost and gradient with non-zero theta\n",
    "test_theta = [-24; 0.2; 0.2];\n",
    "[cost, grad] = costFunction(test_theta, X, y);\n",
    "\n",
    "print('\\nCost at test theta: #f\\n', cost);\n",
    "print('Expected cost (approx): 0.218\\n');\n",
    "print('Gradient at test theta: \\n');\n",
    "print(' #f \\n', grad);\n",
    "print('Expected gradients (approx):\\n 0.043\\n 2.566\\n 2.647\\n');\n",
    "\n",
    "print('\\nProgram paused. Press enter to continue.\\n');\n",
    "pause;\n",
    "\n",
    "\n",
    "## ============= Part 3: Optimizing using fminunc  =============\n",
    "#  In this exercise, you will use a built-in function (fminunc) to find the\n",
    "#  optimal parameters theta.\n",
    "\n",
    "#  Set options for fminunc\n",
    "options = optimset('GradObj', 'on', 'MaxIter', 400);\n",
    "\n",
    "#  Run fminunc to obtain the optimal theta\n",
    "#  This function will return theta and the cost \n",
    "[theta, cost] = fminunc(@(t)(costFunction(t, X, y)), initial_theta, options);\n",
    "\n",
    "# Print theta to screen\n",
    "print('Cost at theta found by fminunc: #f\\n', cost);\n",
    "print('Expected cost (approx): 0.203\\n');\n",
    "print('theta: \\n');\n",
    "print(' #f \\n', theta);\n",
    "print('Expected theta (approx):\\n');\n",
    "print(' -25.161\\n 0.206\\n 0.201\\n');\n",
    "\n",
    "# Plot Boundary\n",
    "plotDecisionBoundary(theta, X, y);\n",
    "\n",
    "# Put some labels \n",
    "hold on;\n",
    "# Labels and Legend\n",
    "xlabel('Exam 1 score')\n",
    "ylabel('Exam 2 score')\n",
    "\n",
    "# Specified in plot order\n",
    "legend('Admitted', 'Not admitted')\n",
    "hold off;\n",
    "\n",
    "print('\\nProgram paused. Press enter to continue.\\n');\n",
    "pause;\n",
    "\n",
    "## ============== Part 4: Predict and Accuracies ==============\n",
    "#  After learning the parameters, you'll like to use it to predict the outcomes\n",
    "#  on unseen data. In this part, you will use the logistic regression model\n",
    "#  to predict the probability that a student with score 45 on exam 1 and \n",
    "#  score 85 on exam 2 will be admitted.\n",
    "#\n",
    "#  Furthermore, you will compute the training and test set accuracies of \n",
    "#  our model.\n",
    "#\n",
    "#  Your task is to complete the code in predict.m\n",
    "\n",
    "#  Predict probability for a student with score 45 on exam 1 \n",
    "#  and score 85 on exam 2 \n",
    "\n",
    "prob = sigmoid([1 45 85] * theta);\n",
    "print(['For a student with scores 45 and 85, we predict an admission ' ...\n",
    "         'probability of #f\\n'], prob);\n",
    "print('Expected value: 0.775 +/- 0.002\\n\\n');\n",
    "\n",
    "# Compute accuracy on our training set\n",
    "p = predict(theta, X);\n",
    "\n",
    "print('Train Accuracy: #f\\n', mean(double(p == y)) * 100);\n",
    "print('Expected accuracy (approx): 89.0\\n');\n",
    "print('\\n');\n"
   ]
  },
  {
   "cell_type": "code",
   "execution_count": null,
   "metadata": {},
   "outputs": [],
   "source": []
  }
 ],
 "metadata": {
  "kernelspec": {
   "display_name": "Python 3",
   "language": "python",
   "name": "python3"
  },
  "language_info": {
   "codemirror_mode": {
    "name": "ipython",
    "version": 3
   },
   "file_extension": ".py",
   "mimetype": "text/x-python",
   "name": "python",
   "nbconvert_exporter": "python",
   "pygments_lexer": "ipython3",
   "version": "3.6.4"
  }
 },
 "nbformat": 4,
 "nbformat_minor": 2
}
